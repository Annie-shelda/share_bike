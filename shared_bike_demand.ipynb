{
 "cells": [
  {
   "cell_type": "markdown",
   "id": "1d109014",
   "metadata": {},
   "source": [
    "## Finding the 3 important variable in predicting demand for shared bikes"
   ]
  },
  {
   "cell_type": "code",
   "execution_count": 141,
   "id": "007931d4",
   "metadata": {},
   "outputs": [],
   "source": [
    "#importing the required packages\n",
    "import pandas as pd\n",
    "import numpy as np\n",
    "import math\n",
    "\n",
    "import matplotlib.pyplot as plt\n",
    "import seaborn as sns\n",
    "\n",
    "import warnings\n",
    "warnings.filterwarnings(\"ignore\")\n",
    "\n",
    "from sklearn.model_selection import train_test_split\n",
    "from sklearn.linear_model import LinearRegression\n",
    "from sklearn.preprocessing import StandardScaler\n",
    "from sklearn.neighbors import KNeighborsRegressor\n",
    "from sklearn.ensemble import RandomForestRegressor\n",
    "from sklearn.tree import DecisionTreeRegressor\n",
    "import xgboost as xgboost\n",
    "\n",
    "\n",
    "from sklearn import metrics\n",
    "from sklearn.model_selection import cross_val_score\n",
    "from sklearn.metrics import r2_score"
   ]
  },
  {
   "cell_type": "markdown",
   "id": "b3956866",
   "metadata": {},
   "source": [
    "## Reading the data"
   ]
  },
  {
   "cell_type": "code",
   "execution_count": 142,
   "id": "a91f8ff0",
   "metadata": {},
   "outputs": [
    {
     "data": {
      "text/html": [
       "<div>\n",
       "<style scoped>\n",
       "    .dataframe tbody tr th:only-of-type {\n",
       "        vertical-align: middle;\n",
       "    }\n",
       "\n",
       "    .dataframe tbody tr th {\n",
       "        vertical-align: top;\n",
       "    }\n",
       "\n",
       "    .dataframe thead th {\n",
       "        text-align: right;\n",
       "    }\n",
       "</style>\n",
       "<table border=\"1\" class=\"dataframe\">\n",
       "  <thead>\n",
       "    <tr style=\"text-align: right;\">\n",
       "      <th></th>\n",
       "      <th>instant</th>\n",
       "      <th>dteday</th>\n",
       "      <th>season</th>\n",
       "      <th>yr</th>\n",
       "      <th>mnth</th>\n",
       "      <th>holiday</th>\n",
       "      <th>weekday</th>\n",
       "      <th>workingday</th>\n",
       "      <th>weathersit</th>\n",
       "      <th>temp</th>\n",
       "      <th>atemp</th>\n",
       "      <th>hum</th>\n",
       "      <th>windspeed</th>\n",
       "      <th>casual</th>\n",
       "      <th>registered</th>\n",
       "      <th>cnt</th>\n",
       "    </tr>\n",
       "  </thead>\n",
       "  <tbody>\n",
       "    <tr>\n",
       "      <th>0</th>\n",
       "      <td>1</td>\n",
       "      <td>01-01-2018</td>\n",
       "      <td>1</td>\n",
       "      <td>0</td>\n",
       "      <td>1</td>\n",
       "      <td>0</td>\n",
       "      <td>1</td>\n",
       "      <td>1</td>\n",
       "      <td>2</td>\n",
       "      <td>14.110847</td>\n",
       "      <td>18.18125</td>\n",
       "      <td>80.5833</td>\n",
       "      <td>10.749882</td>\n",
       "      <td>331</td>\n",
       "      <td>654</td>\n",
       "      <td>985</td>\n",
       "    </tr>\n",
       "    <tr>\n",
       "      <th>1</th>\n",
       "      <td>2</td>\n",
       "      <td>02-01-2018</td>\n",
       "      <td>1</td>\n",
       "      <td>0</td>\n",
       "      <td>1</td>\n",
       "      <td>0</td>\n",
       "      <td>2</td>\n",
       "      <td>1</td>\n",
       "      <td>2</td>\n",
       "      <td>14.902598</td>\n",
       "      <td>17.68695</td>\n",
       "      <td>69.6087</td>\n",
       "      <td>16.652113</td>\n",
       "      <td>131</td>\n",
       "      <td>670</td>\n",
       "      <td>801</td>\n",
       "    </tr>\n",
       "    <tr>\n",
       "      <th>2</th>\n",
       "      <td>3</td>\n",
       "      <td>03-01-2018</td>\n",
       "      <td>1</td>\n",
       "      <td>0</td>\n",
       "      <td>1</td>\n",
       "      <td>0</td>\n",
       "      <td>3</td>\n",
       "      <td>1</td>\n",
       "      <td>1</td>\n",
       "      <td>8.050924</td>\n",
       "      <td>9.47025</td>\n",
       "      <td>43.7273</td>\n",
       "      <td>16.636703</td>\n",
       "      <td>120</td>\n",
       "      <td>1229</td>\n",
       "      <td>1349</td>\n",
       "    </tr>\n",
       "    <tr>\n",
       "      <th>3</th>\n",
       "      <td>4</td>\n",
       "      <td>04-01-2018</td>\n",
       "      <td>1</td>\n",
       "      <td>0</td>\n",
       "      <td>1</td>\n",
       "      <td>0</td>\n",
       "      <td>4</td>\n",
       "      <td>1</td>\n",
       "      <td>1</td>\n",
       "      <td>8.200000</td>\n",
       "      <td>10.60610</td>\n",
       "      <td>59.0435</td>\n",
       "      <td>10.739832</td>\n",
       "      <td>108</td>\n",
       "      <td>1454</td>\n",
       "      <td>1562</td>\n",
       "    </tr>\n",
       "    <tr>\n",
       "      <th>4</th>\n",
       "      <td>5</td>\n",
       "      <td>05-01-2018</td>\n",
       "      <td>1</td>\n",
       "      <td>0</td>\n",
       "      <td>1</td>\n",
       "      <td>0</td>\n",
       "      <td>5</td>\n",
       "      <td>1</td>\n",
       "      <td>1</td>\n",
       "      <td>9.305237</td>\n",
       "      <td>11.46350</td>\n",
       "      <td>43.6957</td>\n",
       "      <td>12.522300</td>\n",
       "      <td>82</td>\n",
       "      <td>1518</td>\n",
       "      <td>1600</td>\n",
       "    </tr>\n",
       "  </tbody>\n",
       "</table>\n",
       "</div>"
      ],
      "text/plain": [
       "   instant      dteday  season  yr  mnth  holiday  weekday  workingday  \\\n",
       "0        1  01-01-2018       1   0     1        0        1           1   \n",
       "1        2  02-01-2018       1   0     1        0        2           1   \n",
       "2        3  03-01-2018       1   0     1        0        3           1   \n",
       "3        4  04-01-2018       1   0     1        0        4           1   \n",
       "4        5  05-01-2018       1   0     1        0        5           1   \n",
       "\n",
       "   weathersit       temp     atemp      hum  windspeed  casual  registered  \\\n",
       "0           2  14.110847  18.18125  80.5833  10.749882     331         654   \n",
       "1           2  14.902598  17.68695  69.6087  16.652113     131         670   \n",
       "2           1   8.050924   9.47025  43.7273  16.636703     120        1229   \n",
       "3           1   8.200000  10.60610  59.0435  10.739832     108        1454   \n",
       "4           1   9.305237  11.46350  43.6957  12.522300      82        1518   \n",
       "\n",
       "    cnt  \n",
       "0   985  \n",
       "1   801  \n",
       "2  1349  \n",
       "3  1562  \n",
       "4  1600  "
      ]
     },
     "execution_count": 142,
     "metadata": {},
     "output_type": "execute_result"
    }
   ],
   "source": [
    "df=pd.read_csv(\"D:\\python\\day - day.csv\")\n",
    "df.head()"
   ]
  },
  {
   "cell_type": "code",
   "execution_count": 143,
   "id": "ac2bfa91",
   "metadata": {},
   "outputs": [
    {
     "name": "stdout",
     "output_type": "stream",
     "text": [
      "There are 16 columns and 730 records in the dataset\n"
     ]
    }
   ],
   "source": [
    "#checking the size of the dataset\n",
    "shape=df.shape\n",
    "print(\"There are\",shape[1],\"columns and\",shape[0],\"records in the dataset\")"
   ]
  },
  {
   "cell_type": "code",
   "execution_count": 144,
   "id": "1aa1df2f",
   "metadata": {},
   "outputs": [
    {
     "data": {
      "text/plain": [
       "Index(['instant', 'dteday', 'season', 'yr', 'mnth', 'holiday', 'weekday',\n",
       "       'workingday', 'weathersit', 'temp', 'atemp', 'hum', 'windspeed',\n",
       "       'casual', 'registered', 'cnt'],\n",
       "      dtype='object')"
      ]
     },
     "execution_count": 144,
     "metadata": {},
     "output_type": "execute_result"
    }
   ],
   "source": [
    "#viewing the column names\n",
    "columns=df.columns\n",
    "columns"
   ]
  },
  {
   "cell_type": "markdown",
   "id": "1bfc271e",
   "metadata": {},
   "source": [
    "## Cleaning and processing the data"
   ]
  },
  {
   "cell_type": "code",
   "execution_count": 145,
   "id": "2cb7f0e9",
   "metadata": {},
   "outputs": [
    {
     "data": {
      "text/plain": [
       "instant       0\n",
       "dteday        0\n",
       "season        0\n",
       "yr            0\n",
       "mnth          0\n",
       "holiday       0\n",
       "weekday       0\n",
       "workingday    0\n",
       "weathersit    0\n",
       "temp          0\n",
       "atemp         0\n",
       "hum           0\n",
       "windspeed     0\n",
       "casual        0\n",
       "registered    0\n",
       "cnt           0\n",
       "dtype: int64"
      ]
     },
     "execution_count": 145,
     "metadata": {},
     "output_type": "execute_result"
    }
   ],
   "source": [
    "#finding the null values\n",
    "df.isnull().sum()"
   ]
  },
  {
   "cell_type": "code",
   "execution_count": 146,
   "id": "b53b855b",
   "metadata": {},
   "outputs": [
    {
     "data": {
      "text/plain": [
       "0"
      ]
     },
     "execution_count": 146,
     "metadata": {},
     "output_type": "execute_result"
    }
   ],
   "source": [
    "#viewing duplicate values\n",
    "df.duplicated().sum()"
   ]
  },
  {
   "cell_type": "code",
   "execution_count": 147,
   "id": "60aa2f30",
   "metadata": {},
   "outputs": [
    {
     "data": {
      "text/plain": [
       "instant         int64\n",
       "dteday         object\n",
       "season          int64\n",
       "yr              int64\n",
       "mnth            int64\n",
       "holiday         int64\n",
       "weekday         int64\n",
       "workingday      int64\n",
       "weathersit      int64\n",
       "temp          float64\n",
       "atemp         float64\n",
       "hum           float64\n",
       "windspeed     float64\n",
       "casual          int64\n",
       "registered      int64\n",
       "cnt             int64\n",
       "dtype: object"
      ]
     },
     "execution_count": 147,
     "metadata": {},
     "output_type": "execute_result"
    }
   ],
   "source": [
    "#viewing the datatypes\n",
    "df.dtypes"
   ]
  },
  {
   "cell_type": "code",
   "execution_count": 148,
   "id": "562455e9",
   "metadata": {},
   "outputs": [],
   "source": [
    "#changing the \"dteday\" column's data type from object to datetime\n",
    "df[\"dteday\"]=pd.to_datetime(df[\"dteday\"])"
   ]
  },
  {
   "cell_type": "code",
   "execution_count": 149,
   "id": "491917fb",
   "metadata": {},
   "outputs": [
    {
     "data": {
      "text/html": [
       "<div>\n",
       "<style scoped>\n",
       "    .dataframe tbody tr th:only-of-type {\n",
       "        vertical-align: middle;\n",
       "    }\n",
       "\n",
       "    .dataframe tbody tr th {\n",
       "        vertical-align: top;\n",
       "    }\n",
       "\n",
       "    .dataframe thead th {\n",
       "        text-align: right;\n",
       "    }\n",
       "</style>\n",
       "<table border=\"1\" class=\"dataframe\">\n",
       "  <thead>\n",
       "    <tr style=\"text-align: right;\">\n",
       "      <th></th>\n",
       "      <th>instant</th>\n",
       "      <th>season</th>\n",
       "      <th>yr</th>\n",
       "      <th>mnth</th>\n",
       "      <th>holiday</th>\n",
       "      <th>weekday</th>\n",
       "      <th>workingday</th>\n",
       "      <th>weathersit</th>\n",
       "      <th>temp</th>\n",
       "      <th>atemp</th>\n",
       "      <th>hum</th>\n",
       "      <th>windspeed</th>\n",
       "      <th>casual</th>\n",
       "      <th>registered</th>\n",
       "      <th>cnt</th>\n",
       "    </tr>\n",
       "  </thead>\n",
       "  <tbody>\n",
       "    <tr>\n",
       "      <th>count</th>\n",
       "      <td>730.000000</td>\n",
       "      <td>730.000000</td>\n",
       "      <td>730.000000</td>\n",
       "      <td>730.000000</td>\n",
       "      <td>730.000000</td>\n",
       "      <td>730.000000</td>\n",
       "      <td>730.000000</td>\n",
       "      <td>730.000000</td>\n",
       "      <td>730.000000</td>\n",
       "      <td>730.000000</td>\n",
       "      <td>730.000000</td>\n",
       "      <td>730.000000</td>\n",
       "      <td>730.000000</td>\n",
       "      <td>730.000000</td>\n",
       "      <td>730.000000</td>\n",
       "    </tr>\n",
       "    <tr>\n",
       "      <th>mean</th>\n",
       "      <td>365.500000</td>\n",
       "      <td>2.498630</td>\n",
       "      <td>0.500000</td>\n",
       "      <td>6.526027</td>\n",
       "      <td>0.028767</td>\n",
       "      <td>2.995890</td>\n",
       "      <td>0.690411</td>\n",
       "      <td>1.394521</td>\n",
       "      <td>20.319259</td>\n",
       "      <td>23.726322</td>\n",
       "      <td>62.765175</td>\n",
       "      <td>12.763620</td>\n",
       "      <td>849.249315</td>\n",
       "      <td>3658.757534</td>\n",
       "      <td>4508.006849</td>\n",
       "    </tr>\n",
       "    <tr>\n",
       "      <th>std</th>\n",
       "      <td>210.877136</td>\n",
       "      <td>1.110184</td>\n",
       "      <td>0.500343</td>\n",
       "      <td>3.450215</td>\n",
       "      <td>0.167266</td>\n",
       "      <td>2.000339</td>\n",
       "      <td>0.462641</td>\n",
       "      <td>0.544807</td>\n",
       "      <td>7.506729</td>\n",
       "      <td>8.150308</td>\n",
       "      <td>14.237589</td>\n",
       "      <td>5.195841</td>\n",
       "      <td>686.479875</td>\n",
       "      <td>1559.758728</td>\n",
       "      <td>1936.011647</td>\n",
       "    </tr>\n",
       "    <tr>\n",
       "      <th>min</th>\n",
       "      <td>1.000000</td>\n",
       "      <td>1.000000</td>\n",
       "      <td>0.000000</td>\n",
       "      <td>1.000000</td>\n",
       "      <td>0.000000</td>\n",
       "      <td>0.000000</td>\n",
       "      <td>0.000000</td>\n",
       "      <td>1.000000</td>\n",
       "      <td>2.424346</td>\n",
       "      <td>3.953480</td>\n",
       "      <td>0.000000</td>\n",
       "      <td>1.500244</td>\n",
       "      <td>2.000000</td>\n",
       "      <td>20.000000</td>\n",
       "      <td>22.000000</td>\n",
       "    </tr>\n",
       "    <tr>\n",
       "      <th>25%</th>\n",
       "      <td>183.250000</td>\n",
       "      <td>2.000000</td>\n",
       "      <td>0.000000</td>\n",
       "      <td>4.000000</td>\n",
       "      <td>0.000000</td>\n",
       "      <td>1.000000</td>\n",
       "      <td>0.000000</td>\n",
       "      <td>1.000000</td>\n",
       "      <td>13.811885</td>\n",
       "      <td>16.889713</td>\n",
       "      <td>52.000000</td>\n",
       "      <td>9.041650</td>\n",
       "      <td>316.250000</td>\n",
       "      <td>2502.250000</td>\n",
       "      <td>3169.750000</td>\n",
       "    </tr>\n",
       "    <tr>\n",
       "      <th>50%</th>\n",
       "      <td>365.500000</td>\n",
       "      <td>3.000000</td>\n",
       "      <td>0.500000</td>\n",
       "      <td>7.000000</td>\n",
       "      <td>0.000000</td>\n",
       "      <td>3.000000</td>\n",
       "      <td>1.000000</td>\n",
       "      <td>1.000000</td>\n",
       "      <td>20.465826</td>\n",
       "      <td>24.368225</td>\n",
       "      <td>62.625000</td>\n",
       "      <td>12.125325</td>\n",
       "      <td>717.000000</td>\n",
       "      <td>3664.500000</td>\n",
       "      <td>4548.500000</td>\n",
       "    </tr>\n",
       "    <tr>\n",
       "      <th>75%</th>\n",
       "      <td>547.750000</td>\n",
       "      <td>3.000000</td>\n",
       "      <td>1.000000</td>\n",
       "      <td>10.000000</td>\n",
       "      <td>0.000000</td>\n",
       "      <td>5.000000</td>\n",
       "      <td>1.000000</td>\n",
       "      <td>2.000000</td>\n",
       "      <td>26.880615</td>\n",
       "      <td>30.445775</td>\n",
       "      <td>72.989575</td>\n",
       "      <td>15.625589</td>\n",
       "      <td>1096.500000</td>\n",
       "      <td>4783.250000</td>\n",
       "      <td>5966.000000</td>\n",
       "    </tr>\n",
       "    <tr>\n",
       "      <th>max</th>\n",
       "      <td>730.000000</td>\n",
       "      <td>4.000000</td>\n",
       "      <td>1.000000</td>\n",
       "      <td>12.000000</td>\n",
       "      <td>1.000000</td>\n",
       "      <td>6.000000</td>\n",
       "      <td>1.000000</td>\n",
       "      <td>3.000000</td>\n",
       "      <td>35.328347</td>\n",
       "      <td>42.044800</td>\n",
       "      <td>97.250000</td>\n",
       "      <td>34.000021</td>\n",
       "      <td>3410.000000</td>\n",
       "      <td>6946.000000</td>\n",
       "      <td>8714.000000</td>\n",
       "    </tr>\n",
       "  </tbody>\n",
       "</table>\n",
       "</div>"
      ],
      "text/plain": [
       "          instant      season          yr        mnth     holiday     weekday  \\\n",
       "count  730.000000  730.000000  730.000000  730.000000  730.000000  730.000000   \n",
       "mean   365.500000    2.498630    0.500000    6.526027    0.028767    2.995890   \n",
       "std    210.877136    1.110184    0.500343    3.450215    0.167266    2.000339   \n",
       "min      1.000000    1.000000    0.000000    1.000000    0.000000    0.000000   \n",
       "25%    183.250000    2.000000    0.000000    4.000000    0.000000    1.000000   \n",
       "50%    365.500000    3.000000    0.500000    7.000000    0.000000    3.000000   \n",
       "75%    547.750000    3.000000    1.000000   10.000000    0.000000    5.000000   \n",
       "max    730.000000    4.000000    1.000000   12.000000    1.000000    6.000000   \n",
       "\n",
       "       workingday  weathersit        temp       atemp         hum   windspeed  \\\n",
       "count  730.000000  730.000000  730.000000  730.000000  730.000000  730.000000   \n",
       "mean     0.690411    1.394521   20.319259   23.726322   62.765175   12.763620   \n",
       "std      0.462641    0.544807    7.506729    8.150308   14.237589    5.195841   \n",
       "min      0.000000    1.000000    2.424346    3.953480    0.000000    1.500244   \n",
       "25%      0.000000    1.000000   13.811885   16.889713   52.000000    9.041650   \n",
       "50%      1.000000    1.000000   20.465826   24.368225   62.625000   12.125325   \n",
       "75%      1.000000    2.000000   26.880615   30.445775   72.989575   15.625589   \n",
       "max      1.000000    3.000000   35.328347   42.044800   97.250000   34.000021   \n",
       "\n",
       "            casual   registered          cnt  \n",
       "count   730.000000   730.000000   730.000000  \n",
       "mean    849.249315  3658.757534  4508.006849  \n",
       "std     686.479875  1559.758728  1936.011647  \n",
       "min       2.000000    20.000000    22.000000  \n",
       "25%     316.250000  2502.250000  3169.750000  \n",
       "50%     717.000000  3664.500000  4548.500000  \n",
       "75%    1096.500000  4783.250000  5966.000000  \n",
       "max    3410.000000  6946.000000  8714.000000  "
      ]
     },
     "execution_count": 149,
     "metadata": {},
     "output_type": "execute_result"
    }
   ],
   "source": [
    "#viweing the STATISTICAL information of the dataset\n",
    "df.describe()"
   ]
  },
  {
   "cell_type": "markdown",
   "id": "53001e55",
   "metadata": {},
   "source": [
    "CHECKING FOR OUTLIERS"
   ]
  },
  {
   "cell_type": "code",
   "execution_count": 150,
   "id": "8aaef771",
   "metadata": {},
   "outputs": [
    {
     "data": {
      "image/png": "[encoded data removed]",
      "text/plain": [
       "<Figure size 1080x216 with 3 Axes>"
      ]
     },
     "metadata": {
      "needs_background": "light"
     },
     "output_type": "display_data"
    }
   ],
   "source": [
    "fig,axis=plt.subplots(1,3,figsize=(15,3))\n",
    "sns.boxplot(df[\"instant\"],palette=\"PuBu\",ax=axis[0])\n",
    "sns.boxplot(df[\"windspeed\"],palette=\"PuBu\",ax=axis[1])\n",
    "sns.boxplot(df[\"registered\"],palette=\"PuBu\",ax=axis[2])\n",
    "plt.show()"
   ]
  },
  {
   "cell_type": "code",
   "execution_count": 151,
   "id": "e5ba6588",
   "metadata": {},
   "outputs": [
    {
     "data": {
      "image/png": "[encoded data removed]",
      "text/plain": [
       "<Figure size 1080x216 with 3 Axes>"
      ]
     },
     "metadata": {
      "needs_background": "light"
     },
     "output_type": "display_data"
    }
   ],
   "source": [
    "fig,axis=plt.subplots(1,3,figsize=(15,3))\n",
    "sns.boxplot(df[\"temp\"],palette=\"PuBu\",ax=axis[0])\n",
    "sns.boxplot(df[\"atemp\"],palette=\"PuBu\",ax=axis[1])\n",
    "sns.boxplot(df[\"hum\"],palette=\"PuBu\",ax=axis[2])\n",
    "plt.show()"
   ]
  },
  {
   "cell_type": "markdown",
   "id": "8b09bb7d",
   "metadata": {},
   "source": [
    "REMOVING THE OUTLIERS"
   ]
  },
  {
   "cell_type": "code",
   "execution_count": 152,
   "id": "1a7b9f1c",
   "metadata": {},
   "outputs": [],
   "source": [
    "# removing the outlier for \"windspeed\"\n",
    "q1=np.quantile(df[\"windspeed\"],0.25)\n",
    "q3=np.quantile(df[\"windspeed\"],0.75)\n",
    "iqr=q3-q1\n",
    "low=q1-1.5*iqr\n",
    "high=q3+1.5*iqr"
   ]
  },
  {
   "cell_type": "code",
   "execution_count": 153,
   "id": "42e01fb6",
   "metadata": {},
   "outputs": [],
   "source": [
    "# df[\"windspeed\"]=df[\"windspeed\"].clip(low,high)"
   ]
  },
  {
   "cell_type": "code",
   "execution_count": 154,
   "id": "f781e091",
   "metadata": {},
   "outputs": [],
   "source": [
    "# removing the outlier for \"hum\"\n",
    "q1=np.quantile(df[\"hum\"],0.25)\n",
    "q3=np.quantile(df[\"hum\"],0.75)\n",
    "iqr=q3-q1\n",
    "low=q1-1.5*iqr\n",
    "high=q3+1.5*iqr"
   ]
  },
  {
   "cell_type": "code",
   "execution_count": 155,
   "id": "3038323f",
   "metadata": {},
   "outputs": [],
   "source": [
    "# df[\"hum\"]=df[\"hum\"].clip(low,high)"
   ]
  },
  {
   "cell_type": "markdown",
   "id": "f4a7ba80",
   "metadata": {},
   "source": [
    "## Splitting the data"
   ]
  },
  {
   "cell_type": "code",
   "execution_count": 184,
   "id": "b8ba8563",
   "metadata": {},
   "outputs": [],
   "source": [
    "#splitting the data\n",
    "#eliminating the unwanted features\n",
    "x=df.drop(columns=[\"instant\",\"dteday\",\"cnt\",\"casual\",\"registered\"])\n",
    "y=df[\"cnt\"]"
   ]
  },
  {
   "cell_type": "code",
   "execution_count": 185,
   "id": "d86efcbb",
   "metadata": {},
   "outputs": [
    {
     "name": "stdout",
     "output_type": "stream",
     "text": [
      "(584, 11)\n",
      "(146, 11)\n",
      "(584,)\n",
      "(146,)\n"
     ]
    }
   ],
   "source": [
    "#spltting it to tranning and testing data\n",
    "x_train,x_test,y_train,y_test=train_test_split(x,y,random_state=7,test_size=0.2)\n",
    "print(x_train.shape)\n",
    "print(x_test.shape)\n",
    "print(y_train.shape)\n",
    "print(y_test.shape)"
   ]
  },
  {
   "cell_type": "code",
   "execution_count": null,
   "id": "2ba2419c",
   "metadata": {},
   "outputs": [],
   "source": []
  },
  {
   "cell_type": "markdown",
   "id": "40ad7af8",
   "metadata": {},
   "source": [
    "## Model fitting"
   ]
  },
  {
   "cell_type": "code",
   "execution_count": 186,
   "id": "572a6917",
   "metadata": {},
   "outputs": [],
   "source": [
    "#scaling the data for using knn\n",
    "scaler=StandardScaler()\n",
    "scaler.fit(x_train)\n",
    "\n",
    "x_train=scaler.transform(x_train)\n",
    "x_test=scaler.transform(x_test)"
   ]
  },
  {
   "cell_type": "code",
   "execution_count": 187,
   "id": "34bf3c34",
   "metadata": {},
   "outputs": [
    {
     "data": {
      "text/plain": [
       "KNeighborsRegressor(n_neighbors=3)"
      ]
     },
     "execution_count": 187,
     "metadata": {},
     "output_type": "execute_result"
    }
   ],
   "source": [
    "#BUILDING KNN MODEL\n",
    "knn=KNeighborsRegressor(n_neighbors=3)\n",
    "knn.fit(x_train,y_train)"
   ]
  },
  {
   "cell_type": "code",
   "execution_count": 188,
   "id": "85d3e3cd",
   "metadata": {},
   "outputs": [
    {
     "data": {
      "text/plain": [
       "0.7649166154781186"
      ]
     },
     "execution_count": 188,
     "metadata": {},
     "output_type": "execute_result"
    }
   ],
   "source": [
    "#EVALUATION METRICS\n",
    "y_pred_knn=knn.predict(x_test)\n",
    "score_knn=r2_score(y_test,y_pred_knn)\n",
    "score_knn"
   ]
  },
  {
   "cell_type": "code",
   "execution_count": 189,
   "id": "d4b89db4",
   "metadata": {},
   "outputs": [
    {
     "name": "stdout",
     "output_type": "stream",
     "text": [
      "{3: 0.8277655903146964, 4: 0.8352228520293952, 5: 0.8416998428678244, 6: 0.8457022117714974, 7: 0.8423984788481489, 8: 0.8364053567860026, 9: 0.8304482004520874, 10: 0.8306921527979704, 11: 0.827958179975892, 12: 0.823415091502244, 13: 0.8151111724571155, 14: 0.8105928348367044, 15: 0.8045988004243135, 16: 0.8024089989635736, 17: 0.8001105446916267, 18: 0.7974722147787556, 19: 0.7991238669030406, 20: 0.8012749631698295}\n"
     ]
    }
   ],
   "source": [
    "#tunning for the best hyperparameter(k)  value\n",
    "iteration_knn=[]\n",
    "cross_vals_knn_ht=[]\n",
    "for i in range(3,21):\n",
    "    knn_ht=KNeighborsRegressor(n_neighbors=i)\n",
    "    knn_ht.fit(x_train,y_train)\n",
    "    y_pred_knn_ht=knn_ht.predict(x_test)\n",
    "    cross_score_knn_ht=np.mean(cross_val_score(knn_ht,x_train,y_train,cv=10))\n",
    "    cross_vals_knn_ht.append(cross_score_knn_ht)\n",
    "    iteration_knn.append(i)\n",
    "knn_ht_vals=dict(zip(iteration_knn,cross_vals_knn_ht))\n",
    "print(knn_ht_vals)"
   ]
  },
  {
   "cell_type": "code",
   "execution_count": 190,
   "id": "f3b4e0f7",
   "metadata": {},
   "outputs": [
    {
     "name": "stdout",
     "output_type": "stream",
     "text": [
      "The hyper tuned k value with high validation score is: 6 with the validation score: 0.8457022117714974\n"
     ]
    }
   ],
   "source": [
    "max_knnval_score=max(knn_ht_vals.values())\n",
    "position=list(knn_ht_vals.values()).index(max_knnval_score)\n",
    "ht_value=list(knn_ht_vals.keys())\n",
    "print(\"The hyper tuned k value with high validation score is:\",ht_value[position],\"with the validation score:\",max_knnval_score)"
   ]
  },
  {
   "cell_type": "code",
   "execution_count": 191,
   "id": "706adf0a",
   "metadata": {},
   "outputs": [
    {
     "data": {
      "text/plain": [
       "KNeighborsRegressor(n_neighbors=6)"
      ]
     },
     "execution_count": 191,
     "metadata": {},
     "output_type": "execute_result"
    }
   ],
   "source": [
    "knn=KNeighborsRegressor(n_neighbors=ht_value[position])\n",
    "knn.fit(x_train,y_train)"
   ]
  },
  {
   "cell_type": "code",
   "execution_count": 192,
   "id": "e7eb7f69",
   "metadata": {},
   "outputs": [
    {
     "data": {
      "text/plain": [
       "0.7629876354943511"
      ]
     },
     "execution_count": 192,
     "metadata": {},
     "output_type": "execute_result"
    }
   ],
   "source": [
    "y_pred_knn=knn.predict(x_test)\n",
    "score_knn=r2_score(y_test,y_pred_knn)\n",
    "score_knn"
   ]
  },
  {
   "cell_type": "code",
   "execution_count": null,
   "id": "af4fd4a5",
   "metadata": {},
   "outputs": [],
   "source": []
  },
  {
   "cell_type": "code",
   "execution_count": 193,
   "id": "6bd64a15",
   "metadata": {},
   "outputs": [
    {
     "data": {
      "text/plain": [
       "DecisionTreeRegressor(max_depth=2)"
      ]
     },
     "execution_count": 193,
     "metadata": {},
     "output_type": "execute_result"
    }
   ],
   "source": [
    "#BUILDING THE DESCION TREE MODEL\n",
    "dtm=DecisionTreeRegressor(max_depth=2)\n",
    "dtm.fit(x_train,y_train)"
   ]
  },
  {
   "cell_type": "code",
   "execution_count": 194,
   "id": "b56bb575",
   "metadata": {},
   "outputs": [
    {
     "data": {
      "text/plain": [
       "0.6383661997419219"
      ]
     },
     "execution_count": 194,
     "metadata": {},
     "output_type": "execute_result"
    }
   ],
   "source": [
    "pred_y_dtm=dtm.predict(x_test)\n",
    "score_dtm=r2_score(y_test,pred_y_dtm)\n",
    "score_dtm"
   ]
  },
  {
   "cell_type": "code",
   "execution_count": 195,
   "id": "45886024",
   "metadata": {},
   "outputs": [
    {
     "name": "stdout",
     "output_type": "stream",
     "text": [
      "{3: -1.0281469782862396, 4: -0.6702144485972114, 5: -0.8017981547685166, 6: -0.9432963204829992, 7: -0.7910178724552261, 8: -0.8484171976515986, 9: -0.8228602786048823, 10: -0.8369884979796355, 20: -0.8453434074439393, 40: -0.8758550300174631}\n"
     ]
    }
   ],
   "source": [
    "#using cross validation finding the best hyperparamter (max_depth) value\n",
    "cross_scores_dept=[]\n",
    "iteration=[]\n",
    "for i in [3,4,5,6,7,8,9,10,20,40]:\n",
    "    dt_max_depth=DecisionTreeRegressor(max_depth=i)\n",
    "    dt_max_depth.fit(x_train,y_train)\n",
    "    cross_score_dt_ht=cross_val_score(dt_max_depth,x,y,cv=10)\n",
    "    cross_scores_dept.append(np.mean(cross_score_dt_ht))\n",
    "    iteration.append(i)\n",
    "    \n",
    "max_dept_i=dict(zip(iteration,cross_scores_dept))\n",
    "print(max_dept_i)\n",
    "    "
   ]
  },
  {
   "cell_type": "code",
   "execution_count": 196,
   "id": "16babc89",
   "metadata": {},
   "outputs": [
    {
     "name": "stdout",
     "output_type": "stream",
     "text": [
      "The hyper tunned depth_value with high val_score is: 4 with the val score: -0.6702144485972114\n"
     ]
    }
   ],
   "source": [
    "#taking the max_val_cross's depth_value\n",
    "max_score=max(max_dept_i.values())\n",
    "position=list(max_dept_i.values()).index(max_score)\n",
    "apt_dept_value=list(max_dept_i.keys())\n",
    "print(\"The hyper tunned depth_value with high val_score is:\",apt_dept_value[position],\"with the val score:\",max_score)"
   ]
  },
  {
   "cell_type": "code",
   "execution_count": 197,
   "id": "5e165ac8",
   "metadata": {},
   "outputs": [
    {
     "data": {
      "text/plain": [
       "DecisionTreeRegressor(max_depth=4)"
      ]
     },
     "execution_count": 197,
     "metadata": {},
     "output_type": "execute_result"
    }
   ],
   "source": [
    "#building descion tree model with depth value 10\n",
    "dt=DecisionTreeRegressor(max_depth=apt_dept_value[position])\n",
    "dt.fit(x_train,y_train)"
   ]
  },
  {
   "cell_type": "code",
   "execution_count": 198,
   "id": "8d712943",
   "metadata": {},
   "outputs": [
    {
     "data": {
      "text/plain": [
       "0.7046553404421516"
      ]
     },
     "execution_count": 198,
     "metadata": {},
     "output_type": "execute_result"
    }
   ],
   "source": [
    "pred_y_dt=dt.predict(x_test)\n",
    "score_dt=r2_score(y_test,pred_y_dt)\n",
    "score_dt"
   ]
  },
  {
   "cell_type": "code",
   "execution_count": null,
   "id": "3ecbb753",
   "metadata": {},
   "outputs": [],
   "source": []
  },
  {
   "cell_type": "code",
   "execution_count": 199,
   "id": "1e972c26",
   "metadata": {},
   "outputs": [
    {
     "data": {
      "text/plain": [
       "RandomForestRegressor(max_depth=9, max_features='sqrt', n_estimators=50)"
      ]
     },
     "execution_count": 199,
     "metadata": {},
     "output_type": "execute_result"
    }
   ],
   "source": [
    "#building random forest model\n",
    "# max_dept=log2(number of features)\n",
    "dept=round(math.log2(len(x_train)))\n",
    "rf=RandomForestRegressor(n_estimators=50,max_depth=dept,max_features=\"sqrt\")\n",
    "rf.fit(x_train,y_train)"
   ]
  },
  {
   "cell_type": "code",
   "execution_count": 200,
   "id": "07144c99",
   "metadata": {},
   "outputs": [
    {
     "data": {
      "text/plain": [
       "0.8268295452196661"
      ]
     },
     "execution_count": 200,
     "metadata": {},
     "output_type": "execute_result"
    }
   ],
   "source": [
    "y_pred_rf=rf.predict(x_test)\n",
    "score_rf=r2_score(y_test,y_pred_rf)\n",
    "score_rf"
   ]
  },
  {
   "cell_type": "code",
   "execution_count": null,
   "id": "c5ce1402",
   "metadata": {},
   "outputs": [],
   "source": []
  },
  {
   "cell_type": "code",
   "execution_count": 201,
   "id": "000e6892",
   "metadata": {},
   "outputs": [
    {
     "data": {
      "text/plain": [
       "XGBRegressor(base_score=0.5, booster='gbtree', callbacks=None,\n",
       "             colsample_bylevel=1, colsample_bynode=1, colsample_bytree=1,\n",
       "             early_stopping_rounds=None, enable_categorical=False,\n",
       "             eval_metric=None, gamma=0, gpu_id=-1, grow_policy='depthwise',\n",
       "             importance_type=None, interaction_constraints='',\n",
       "             learning_rate=0.03, max_bin=256, max_cat_to_onehot=4,\n",
       "             max_delta_step=0, max_depth=9, max_leaves=0, min_child_weight=1,\n",
       "             missing=nan, monotone_constraints='()', n_estimator=100,\n",
       "             n_estimators=100, n_jobs=0, num_parallel_tree=1, predictor='auto',\n",
       "             random_state=0, reg_alpha=0, ...)"
      ]
     },
     "execution_count": 201,
     "metadata": {},
     "output_type": "execute_result"
    }
   ],
   "source": [
    "#building xgboost model\n",
    "xgm=xgboost.XGBRegressor(max_depth=dept,learning_rate=0.03,n_estimator=100,verbosity=0)\n",
    "xgm.fit(x_train,y_train)"
   ]
  },
  {
   "cell_type": "code",
   "execution_count": 202,
   "id": "ad95cd28",
   "metadata": {},
   "outputs": [
    {
     "data": {
      "text/plain": [
       "0.8126525196562457"
      ]
     },
     "execution_count": 202,
     "metadata": {},
     "output_type": "execute_result"
    }
   ],
   "source": [
    "y_pred_xgm=xgm.predict(x_test)\n",
    "score_xgm=r2_score(y_test,y_pred_xgm)\n",
    "score_xgm"
   ]
  },
  {
   "cell_type": "code",
   "execution_count": 203,
   "id": "15305027",
   "metadata": {},
   "outputs": [
    {
     "name": "stdout",
     "output_type": "stream",
     "text": [
      "{0.01: -0.06001092248843587, 0.02: 0.7247463711802181, 0.03: 0.8423703004782578, 0.04: 0.8659543161830913, 0.05: 0.8718557397944096, 0.06: 0.8703010760742711, 0.07: 0.8737149906178544, 0.08: 0.8755296005615536, 0.09: 0.869259088283101, 0.1: 0.8691922786715403}\n"
     ]
    }
   ],
   "source": [
    "#tunning the hyper parameter(learning rate)\n",
    "cross_vals_xg_ht=[]\n",
    "iteration=[]\n",
    "for i in [0.01,0.02,0.03,0.04,0.05,0.06,0.07,0.08,0.09,0.1]:\n",
    "    xg_ht=xgboost.XGBRegressor(max_depth=dept,learning_rate=i,n_estimator=100,verbosity=0)\n",
    "    xg_ht.fit(x_train,y_train)\n",
    "    cross_score_xg_ht=np.mean(cross_val_score(xg_ht,x_train,y_train,cv=10))\n",
    "    cross_vals_xg_ht.append(cross_score_xg_ht)\n",
    "    iteration.append(i)\n",
    "xg_ht_vals=dict(zip(iteration,cross_vals_xg_ht))\n",
    "print(xg_ht_vals)"
   ]
  },
  {
   "cell_type": "code",
   "execution_count": 204,
   "id": "7fc97554",
   "metadata": {},
   "outputs": [
    {
     "name": "stdout",
     "output_type": "stream",
     "text": [
      "The hyper tuned learing_rate value with high validation score is: 0.08 with the validation score: 0.8755296005615536\n"
     ]
    }
   ],
   "source": [
    "max_xgval_score=max(xg_ht_vals.values())\n",
    "position=list(xg_ht_vals.values()).index(max_xgval_score)\n",
    "ht_value=list(xg_ht_vals.keys())\n",
    "print(\"The hyper tuned learing_rate value with high validation score is:\",ht_value[position],\"with the validation score:\",max_xgval_score)"
   ]
  },
  {
   "cell_type": "code",
   "execution_count": 205,
   "id": "7cdedf93",
   "metadata": {},
   "outputs": [
    {
     "data": {
      "text/plain": [
       "XGBRegressor(base_score=0.5, booster='gbtree', callbacks=None,\n",
       "             colsample_bylevel=1, colsample_bynode=1, colsample_bytree=1,\n",
       "             early_stopping_rounds=None, enable_categorical=False,\n",
       "             eval_metric=None, gamma=0, gpu_id=-1, grow_policy='depthwise',\n",
       "             importance_type=None, interaction_constraints='',\n",
       "             learning_rate=0.09, max_bin=256, max_cat_to_onehot=4,\n",
       "             max_delta_step=0, max_depth=9, max_leaves=0, min_child_weight=1,\n",
       "             missing=nan, monotone_constraints='()', n_estimator=100,\n",
       "             n_estimators=100, n_jobs=0, num_parallel_tree=1, predictor='auto',\n",
       "             random_state=0, reg_alpha=0, ...)"
      ]
     },
     "execution_count": 205,
     "metadata": {},
     "output_type": "execute_result"
    }
   ],
   "source": [
    "#building xgboost model with the tunned hyperparameter (learning_rate=0.07)\n",
    "xgb=xgboost.XGBRegressor(max_depth=dept,learning_rate=0.09,n_estimator=100,verbosity=0)\n",
    "xgb.fit(x_train,y_train)"
   ]
  },
  {
   "cell_type": "code",
   "execution_count": 206,
   "id": "d0dd7fe2",
   "metadata": {},
   "outputs": [
    {
     "data": {
      "text/plain": [
       "0.8465397685622209"
      ]
     },
     "execution_count": 206,
     "metadata": {},
     "output_type": "execute_result"
    }
   ],
   "source": [
    "y_pred_xgb=xgb.predict(x_test)\n",
    "score_xgb=r2_score(y_test,y_pred_xgb)\n",
    "score_xgb"
   ]
  },
  {
   "cell_type": "code",
   "execution_count": null,
   "id": "84d53813",
   "metadata": {},
   "outputs": [],
   "source": []
  },
  {
   "cell_type": "markdown",
   "id": "32a03b3a",
   "metadata": {},
   "source": [
    "## Choosing the best model using cross validation"
   ]
  },
  {
   "cell_type": "code",
   "execution_count": 207,
   "id": "2e89942a",
   "metadata": {},
   "outputs": [],
   "source": [
    "cross_score_lin=cross_val_score(knn,x_train,y_train,cv=10).mean()\n",
    "cross_score_dt=cross_val_score(dt,x_train,y_train,cv=10).mean()\n",
    "cross_score_rf=cross_val_score(rf,x_train,y_train,cv=10).mean()\n",
    "cross_score_xg=cross_val_score(xgb,x_train,y_train,cv=10).mean()"
   ]
  },
  {
   "cell_type": "code",
   "execution_count": 208,
   "id": "66c04c19",
   "metadata": {},
   "outputs": [
    {
     "name": "stdout",
     "output_type": "stream",
     "text": [
      "Cross value score of linear regression model is: 0.8457022117714974\n",
      "Cross value score of descision tree model is: 0.8005047185455716\n",
      "Cross value score of random forest model is: 0.8765034844373977\n",
      "Cross value score of extreme gradient boosting  model is: 0.869259088283101\n"
     ]
    }
   ],
   "source": [
    "print(\"Cross value score of linear regression model is:\",cross_score_lin)\n",
    "print(\"Cross value score of descision tree model is:\",cross_score_dt)\n",
    "print(\"Cross value score of random forest model is:\",cross_score_rf)\n",
    "print(\"Cross value score of extreme gradient boosting  model is:\",cross_score_xg)"
   ]
  },
  {
   "cell_type": "code",
   "execution_count": 209,
   "id": "47c421ed",
   "metadata": {},
   "outputs": [
    {
     "name": "stdout",
     "output_type": "stream",
     "text": [
      "The maximum validation score out of all model is 0.8765034844373977 which belongs to RANDOM FOREST MODEL MODEL\n"
     ]
    }
   ],
   "source": [
    "#getting the maximum validation score\n",
    "max_score=max([cross_score_lin,cross_score_dt,cross_score_rf,cross_score_xg])\n",
    "print(\"The maximum validation score out of all model is\",max_score,\"which belongs to RANDOM FOREST MODEL MODEL\")"
   ]
  },
  {
   "cell_type": "code",
   "execution_count": null,
   "id": "f2f8c6ae",
   "metadata": {},
   "outputs": [],
   "source": []
  },
  {
   "cell_type": "markdown",
   "id": "468d4cda",
   "metadata": {},
   "source": [
    "## Finding the important variable"
   ]
  },
  {
   "cell_type": "code",
   "execution_count": 210,
   "id": "d01d853c",
   "metadata": {},
   "outputs": [
    {
     "name": "stdout",
     "output_type": "stream",
     "text": [
      "The variable value of season is 0.1174074107033102\n",
      "The variable value of yr is 0.2666861918342112\n",
      "The variable value of mnth is 0.09203867015217873\n",
      "The variable value of holiday is 0.002865081139678669\n",
      "The variable value of weekday is 0.013392813122799548\n",
      "The variable value of workingday is 0.003813553678307375\n",
      "The variable value of weathersit is 0.026074062057233588\n",
      "The variable value of temp is 0.17674531623216685\n",
      "The variable value of atemp is 0.18784183679804356\n",
      "The variable value of hum is 0.06672335154699502\n",
      "The variable value of windspeed is 0.04641171273507527\n"
     ]
    }
   ],
   "source": [
    "#As randomforest is the best model out of all,getting the features in that model\n",
    "important_features=dict(zip(x.columns,rf.feature_importances_))\n",
    "for i in important_features:\n",
    "    print(\"The variable value of\",i,\"is\",important_features[i])"
   ]
  },
  {
   "cell_type": "code",
   "execution_count": 211,
   "id": "0e2dd96b",
   "metadata": {},
   "outputs": [
    {
     "data": {
      "image/png": "[encoded data removed]",
      "text/plain": [
       "<Figure size 432x288 with 1 Axes>"
      ]
     },
     "metadata": {
      "needs_background": "light"
     },
     "output_type": "display_data"
    }
   ],
   "source": [
    "#visualizing the important features\n",
    "sorted_idx=rf.feature_importances_.argsort()\n",
    "plt.barh(x.columns[sorted_idx],rf.feature_importances_[sorted_idx]);"
   ]
  },
  {
   "cell_type": "markdown",
   "id": "cc54cdf5",
   "metadata": {},
   "source": [
    "by seeing the graph we can say that yr,atemp,temp,season,mnth are some of the important variables, but yr doesnt makes sense and does not play a important role in predicting the future,so we are eliminating the varaiable \"yr\"."
   ]
  },
  {
   "cell_type": "markdown",
   "id": "20c8777d",
   "metadata": {},
   "source": [
    "## So we can infer that the variables temp, atemp and season are the 3 important variable in predicting demand for shared bikes."
   ]
  },
  {
   "cell_type": "code",
   "execution_count": null,
   "id": "487c6e2a",
   "metadata": {},
   "outputs": [],
   "source": []
  }
 ],
 "metadata": {
  "kernelspec": {
   "display_name": "Python 3 (ipykernel)",
   "language": "python",
   "name": "python3"
  },
  "language_info": {
   "codemirror_mode": {
    "name": "ipython",
    "version": 3
   },
   "file_extension": ".py",
   "mimetype": "text/x-python",
   "name": "python",
   "nbconvert_exporter": "python",
   "pygments_lexer": "ipython3",
   "version": "3.9.7"
  }
 },
 "nbformat": 4,
 "nbformat_minor": 5
}
